{
 "cells": [
  {
   "cell_type": "code",
   "execution_count": null,
   "metadata": {},
   "outputs": [],
   "source": [
    "import csv\n",
    "from parsel import Selector\n",
    "from time import sleep\n",
    "from selenium import webdriver"
   ]
  },
  {
   "cell_type": "code",
   "execution_count": null,
   "metadata": {},
   "outputs": [],
   "source": [
    "def search(key):\n",
    "    driver = webdriver.Chrome('chromedriver')\n",
    "    driver.maximize_window()\n",
    "    driver.get('https://oxylabs.io/products/real-time-crawler')\n",
    "\n",
    "    keyword = driver.find_element_by_name(\"keyword\")\n",
    "    keyword.send_keys(key)\n",
    "    sleep(0.5)\n",
    "\n",
    "    keyword.submit()\n",
    "    contentString=\"\"\n",
    "    while len(contentString)<25:\n",
    "        contentString = driver.find_element_by_tag_name(\"pre\").text\n",
    "\n",
    "    driver.quit()\n",
    "    url=''\n",
    "    source=''\n",
    "    for i in range(len(contentString)):\n",
    "        if contentString[i]=='u' and contentString[i+1]=='r' and contentString[i+2]=='l' and contentString[i+3]=='\"' and contentString[i+4]==':':\n",
    "            for j in range(i+7, len(contentString)):\n",
    "                url+=contentString[j]\n",
    "                if contentString[j]=='\"':\n",
    "                    break\n",
    "        if contentString[i]=='s' and contentString[i+1]=='o' and contentString[i+2]=='u' and contentString[i+3]=='r' and contentString[i+4]=='c' and contentString[i+5]=='e' and contentString[i+6]=='\"':\n",
    "            for j in range(i+10, len(contentString)):\n",
    "                source+=contentString[j]\n",
    "                if contentString[j]=='\"':\n",
    "                    break\n",
    "\n",
    "    url=url.split(\"\\\"\")\n",
    "\n",
    "    source=source.split('\"')\n",
    "\n",
    "    url=url+source\n",
    "    z=''\n",
    "    url=set(url)\n",
    "    url=list(url)\n",
    "    url.remove(z)\n",
    "    # print('XXXXXXXXXXXXXXXXXXXXXXXXXXX')\n",
    "    # print(url)\n",
    "    # print('XXXXXXXXXXXXXXXXXXXXXXXXXXX')\n",
    "\n",
    "    #Removing Social Sites\n",
    "    urlNoSocial=url\n",
    "#     social=['facebook', 'twitter','linkedin']\n",
    "    social_links=['youtube','facebook','linkedin', 'twitter', 'google', 'instagram']\n",
    "    new_links=[]\n",
    "#     print(url)\n",
    "    for link in url:\n",
    "        for social_link in social_links:\n",
    "            if social_link in link:\n",
    "                break\n",
    "        else:\n",
    "            new_links.append(link)\n",
    "    return new_links"
   ]
  },
  {
   "cell_type": "code",
   "execution_count": null,
   "metadata": {},
   "outputs": [],
   "source": [
    "\n",
    "print(search('Nirav Modi'))"
   ]
  },
  {
   "cell_type": "code",
   "execution_count": null,
   "metadata": {},
   "outputs": [],
   "source": []
  },
  {
   "cell_type": "code",
   "execution_count": null,
   "metadata": {},
   "outputs": [],
   "source": [
    "social_links=['youtube','facebook','linkedin']\n",
    "l2 = ['a', 'b']\n",
    "l3 = ['r', 't']\n",
    "l = l2 + l3\n",
    "print(l)\n",
    "new_links=[]"
   ]
  },
  {
   "cell_type": "code",
   "execution_count": null,
   "metadata": {},
   "outputs": [],
   "source": [
    "for link in links:\n",
    "    for social_link in social_links:\n",
    "        if social_link in link:\n",
    "            break\n",
    "    else:\n",
    "        new_links.append(link)"
   ]
  },
  {
   "cell_type": "code",
   "execution_count": null,
   "metadata": {},
   "outputs": [],
   "source": [
    "new_links"
   ]
  },
  {
   "cell_type": "code",
   "execution_count": null,
   "metadata": {},
   "outputs": [],
   "source": [
    "l"
   ]
  },
  {
   "cell_type": "code",
   "execution_count": null,
   "metadata": {},
   "outputs": [],
   "source": [
    "if \"three\" in \"nirav Modi\":\n",
    "    print(\"hi\")\n",
    "else:\n",
    "    print(\"no\")"
   ]
  },
  {
   "cell_type": "code",
   "execution_count": null,
   "metadata": {},
   "outputs": [],
   "source": []
  }
 ],
 "metadata": {
  "kernelspec": {
   "display_name": "Python 3",
   "language": "python",
   "name": "python3"
  },
  "language_info": {
   "codemirror_mode": {
    "name": "ipython",
    "version": 3
   },
   "file_extension": ".py",
   "mimetype": "text/x-python",
   "name": "python",
   "nbconvert_exporter": "python",
   "pygments_lexer": "ipython3",
   "version": "3.7.6"
  }
 },
 "nbformat": 4,
 "nbformat_minor": 2
}
