{
 "cells": [
  {
   "cell_type": "code",
   "execution_count": 1,
   "metadata": {},
   "outputs": [],
   "source": [
    "import csv\n",
    "from parsel import Selector\n",
    "from time import sleep\n",
    "from selenium import webdriver"
   ]
  },
  {
   "cell_type": "code",
   "execution_count": 23,
   "metadata": {},
   "outputs": [],
   "source": [
    "def search(key):\n",
    "    driver = webdriver.Chrome('chromedriver')\n",
    "    driver.maximize_window()\n",
    "    driver.get('https://oxylabs.io/products/real-time-crawler')\n",
    "\n",
    "    keyword = driver.find_element_by_name(\"keyword\")\n",
    "    keyword.send_keys(key)\n",
    "    sleep(0.5)\n",
    "\n",
    "    keyword.submit()\n",
    "    contentString=\"\"\n",
    "    while len(contentString)<25:\n",
    "        contentString = driver.find_element_by_tag_name(\"pre\").text\n",
    "\n",
    "    driver.quit()\n",
    "    url=''\n",
    "    source=''\n",
    "    for i in range(len(contentString)):\n",
    "        if contentString[i]=='u' and contentString[i+1]=='r' and contentString[i+2]=='l' and contentString[i+3]=='\"' and contentString[i+4]==':':\n",
    "            for j in range(i+7, len(contentString)):\n",
    "                url+=contentString[j]\n",
    "                if contentString[j]=='\"':\n",
    "                    break\n",
    "        if contentString[i]=='s' and contentString[i+1]=='o' and contentString[i+2]=='u' and contentString[i+3]=='r' and contentString[i+4]=='c' and contentString[i+5]=='e' and contentString[i+6]=='\"':\n",
    "            for j in range(i+10, len(contentString)):\n",
    "                source+=contentString[j]\n",
    "                if contentString[j]=='\"':\n",
    "                    break\n",
    "\n",
    "    url=url.split(\"\\\"\")\n",
    "\n",
    "    source=source.split('\"')\n",
    "\n",
    "    url=url+source\n",
    "    z=''\n",
    "    url=set(url)\n",
    "    url=list(url)\n",
    "    url.remove(z)\n",
    "    # print('XXXXXXXXXXXXXXXXXXXXXXXXXXX')\n",
    "    # print(url)\n",
    "    # print('XXXXXXXXXXXXXXXXXXXXXXXXXXX')\n",
    "\n",
    "    #Removing Social Sites\n",
    "    urlNoSocial=url\n",
    "#     social=['facebook', 'twitter','linkedin']\n",
    "    social_links=['youtube','facebook','linkedin', 'twitter', 'google', 'instagram']\n",
    "    new_links=[]\n",
    "#     print(url)\n",
    "    for link in url:\n",
    "        for social_link in social_links:\n",
    "            if social_link in link:\n",
    "                break\n",
    "        else:\n",
    "            new_links.append(link)\n",
    "    return new_links"
   ]
  },
  {
   "cell_type": "code",
   "execution_count": 24,
   "metadata": {},
   "outputs": [
    {
     "name": "stdout",
     "output_type": "stream",
     "text": [
      "['https://economictimes.indiatimes.com/topic/Nirav-Modi', 'The Economic Times - Mar 20, 2019', 'https://www.instagram.com/niravmodijewels/', 'https://en.wikipedia.org/wiki/Nirav_Modi', 'https://economictimes.indiatimes.com/news/politics-and-nation/nirav-modis-fresh-bail-plea-rejected-by-uk-court-in-pnb-fraud-case/videoshow/71941482.cms', 'The Economic Times - Nov 6, 2019', '/search?num=5&hl=en&gl=US&q=Gautam+Adani&stick=H4sIAAAAAAAAAONgFuLVT9c3NEw2NTHILiw3U-LSz9U3ME6uKi4y0-ILSC0qzs8LzkxJLU-sLF7EyuOeWFqSmKvgmJKYl7mDlREAuGQnDj8AAAA&sa=X&ved=2ahUKEwjk1IHdip3nAhVQ6XMBHXGABPgQxA0wKXoECAsQDQ', '/search?num=5&hl=en&gl=US&q=Lalit+Modi&stick=H4sIAAAAAAAAAONgFuLVT9c3NEw2NTHILiw3U-LSz9U3MC7MKEgz0uILSC0qzs8LzkxJLU-sLF7EyuWTmJNZouCbn5K5g5URAOZdltM9AAAA&sa=X&ved=2ahUKEwjk1IHdip3nAhVQ6XMBHXGABPgQxA0wKXoECAsQCQ', 'https://en.wikipedia.org/wiki/JW_Marriott_Essex_House', '/search?num=5&hl=en&gl=US&q=Siddharth+Mallya&stick=H4sIAAAAAAAAAONgFuLVT9c3NEw2NTHILiw3U-LSz9U3SCqKN05O0-ILSC0qzs8LzkxJLU-sLF7EKgBkpmQkFpVkKPgm5uRUJu5gZQQAkTzgiEMAAAA&sa=X&ved=2ahUKEwjk1IHdip3nAhVQ6XMBHXGABPgQxA0wKXoECAsQCw', 'https://m.economictimes.com/news/politics-and-nation/uk-court-further-remands-nirav-modi-to-appear-on-january-30/articleshow/73071409.cms', 'https://economictimes.indiatimes.com/news/politics-and-nation/seized-assets-of-nirav-modi-to-be-auctioned-on-feb-27th-saffronart-to-host-2-sales/videoshow/73489446.cms', 'https://en.wikipedia.org/wiki/Mehul_Choksi', '/search?num=5&hl=en&gl=US&q=Vijay+Mallya&stick=H4sIAAAAAAAAAONgFuLVT9c3NEw2NTHILiw3U-LUz9U3MDOtMErR4gtILSrOzwvOTEktT6wsXsTKE5aZlVip4JuYk1OZuIOVEQC4J9fxPgAAAA&sa=X&ved=2ahUKEwjk1IHdip3nAhVQ6XMBHXGABPgQxA0wKXoECAsQBw', 'https://economictimes.indiatimes.com/news/politics-and-nation/fugitive-diamond-merchant-nirav-modi-arrested-in-london/videoshow/68496987.cms', '/search?num=5&hl=en&gl=US&q=Mehul+Choksi&stick=H4sIAAAAAAAAAONgFuLVT9c3NEw2NTHILiw3U4Jw00zKTEoKS0q0-AJSi4rz84IzU1LLEyuLF7Hy-KZmlOYoOGfkZxdn7mBlBAD7H4ibQgAAAA&sa=X&ved=2ahUKEwjk1IHdip3nAhVQ6XMBHXGABPgQxA0wKXoECAsQBQ', 'https://en.wikipedia.org/wiki/Punjab_National_Bank_Scam', 'The Economic Times - 3 days ago']\n"
     ]
    }
   ],
   "source": [
    "# print(search('aditya chavan'))\n",
    "# print(search('8779238410'))\n",
    "# print(search('adityachavan198@gmail.com'))\n",
    "print(search('Nirav Modi'))"
   ]
  },
  {
   "cell_type": "code",
   "execution_count": 2,
   "metadata": {},
   "outputs": [],
   "source": [
    "links=['https://www.youtube.com/watch?v=j1dMEPuB-XQ',\n",
    " 'https://www.facebook.com/adityachavan99/',\n",
    " 'https://www.google.com/search?uule=w+CAIQICIGVW5pdGVk&q=aditya+chavan&hl=en&gl=US&num=6']\n"
   ]
  },
  {
   "cell_type": "code",
   "execution_count": 26,
   "metadata": {},
   "outputs": [
    {
     "name": "stdout",
     "output_type": "stream",
     "text": [
      "['a', 'b', 'r', 't']\n"
     ]
    }
   ],
   "source": [
    "social_links=['youtube','facebook','linkedin']\n",
    "l2 = ['a', 'b']\n",
    "l3 = ['r', 't']\n",
    "l = l2 + l3\n",
    "print(l)\n",
    "new_links=[]"
   ]
  },
  {
   "cell_type": "code",
   "execution_count": 10,
   "metadata": {},
   "outputs": [],
   "source": [
    "for link in links:\n",
    "    for social_link in social_links:\n",
    "        if social_link in link:\n",
    "            break\n",
    "    else:\n",
    "        new_links.append(link)"
   ]
  },
  {
   "cell_type": "code",
   "execution_count": 11,
   "metadata": {},
   "outputs": [
    {
     "data": {
      "text/plain": [
       "['https://www.google.com/search?uule=w+CAIQICIGVW5pdGVk&q=aditya+chavan&hl=en&gl=US&num=6']"
      ]
     },
     "execution_count": 11,
     "metadata": {},
     "output_type": "execute_result"
    }
   ],
   "source": [
    "new_links"
   ]
  },
  {
   "cell_type": "code",
   "execution_count": 164,
   "metadata": {},
   "outputs": [
    {
     "data": {
      "text/plain": [
       "['https://www.youtube.com/watch?v=j1dMEPuB-XQ',\n",
       " 'https://www.facebook.com/adityachavan99/',\n",
       " 'https://www.google.com/search?uule=w+CAIQICIGVW5pdGVk&q=aditya+chavan&hl=en&gl=US&num=5']"
      ]
     },
     "execution_count": 164,
     "metadata": {},
     "output_type": "execute_result"
    }
   ],
   "source": [
    "l"
   ]
  },
  {
   "cell_type": "code",
   "execution_count": 9,
   "metadata": {},
   "outputs": [
    {
     "name": "stdout",
     "output_type": "stream",
     "text": [
      "no\n"
     ]
    }
   ],
   "source": [
    "if \"three\" in \"aakash kolekar\":\n",
    "    print(\"hi\")\n",
    "else:\n",
    "    print(\"no\")"
   ]
  },
  {
   "cell_type": "code",
   "execution_count": null,
   "metadata": {},
   "outputs": [],
   "source": []
  }
 ],
 "metadata": {
  "kernelspec": {
   "display_name": "Python 3",
   "language": "python",
   "name": "python3"
  },
  "language_info": {
   "codemirror_mode": {
    "name": "ipython",
    "version": 3
   },
   "file_extension": ".py",
   "mimetype": "text/x-python",
   "name": "python",
   "nbconvert_exporter": "python",
   "pygments_lexer": "ipython3",
   "version": "3.7.4"
  }
 },
 "nbformat": 4,
 "nbformat_minor": 2
}
